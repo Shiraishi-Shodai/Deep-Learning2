{
 "cells": [
  {
   "cell_type": "code",
   "execution_count": 17,
   "id": "e16ec61c",
   "metadata": {},
   "outputs": [
    {
     "name": "stdout",
     "output_type": "stream",
     "text": [
      "[0.70710678 0.        ]\n",
      "[0.66976155 0.33023845]\n",
      "[ 9.95357676 16.60476901]\n"
     ]
    }
   ],
   "source": [
    "import numpy as np\n",
    "\n",
    "Q = np.array([1, 0])\n",
    "K = np.array([[1, 0],\n",
    "     [0, 1]])\n",
    "\n",
    "V1 = np.array([[5, 10],\n",
    "      [20, 30]])\n",
    "\n",
    "dk = 2\n",
    "\n",
    "# QとKのドット積\n",
    "qk = Q @ K.T\n",
    "\n",
    "# dkでqkを割り算\n",
    "qk = qk / np.sqrt(dk)\n",
    "print(qk)\n",
    "\n",
    "# softmaxを計算\n",
    "def softmax(qk):\n",
    "    c = np.max(qk)\n",
    "    return np.exp(qk - c) / np.sum(np.exp(qk - c))\n",
    "\n",
    "soft_qk = softmax(qk)\n",
    "print(soft_qk)\n",
    "\n",
    "result = soft_qk @ V1\n",
    "print(result)"
   ]
  },
  {
   "cell_type": "markdown",
   "id": "7521ce71",
   "metadata": {},
   "source": [
    "softmaxでは、入力する値の差が小さいと、出力の確率の差も小さくなる"
   ]
  },
  {
   "cell_type": "code",
   "execution_count": 26,
   "id": "3ce1508c",
   "metadata": {},
   "outputs": [
    {
     "name": "stdout",
     "output_type": "stream",
     "text": [
      "1\n",
      "[0.73105858 0.26894142]\n",
      "10\n",
      "[9.99954602e-01 4.53978687e-05]\n"
     ]
    }
   ],
   "source": [
    "# パターン1(入力の差が小さい)\n",
    "input1 = np.array([1, 0])\n",
    "sum_e = np.sum(input1)\n",
    "print(sum_e)\n",
    "\n",
    "soft1 = softmax(input1)\n",
    "print(soft1)\n",
    "\n",
    "\n",
    "# パターン2(入力の差が大きい)\n",
    "input2 = np.array([10, 0])\n",
    "sum_e = np.sum(input2)\n",
    "print(sum_e)\n",
    "\n",
    "soft2 = softmax(input2)\n",
    "print(soft2)"
   ]
  }
 ],
 "metadata": {
  "kernelspec": {
   "display_name": ".venv",
   "language": "python",
   "name": "python3"
  },
  "language_info": {
   "codemirror_mode": {
    "name": "ipython",
    "version": 3
   },
   "file_extension": ".py",
   "mimetype": "text/x-python",
   "name": "python",
   "nbconvert_exporter": "python",
   "pygments_lexer": "ipython3",
   "version": "3.12.3"
  }
 },
 "nbformat": 4,
 "nbformat_minor": 5
}
